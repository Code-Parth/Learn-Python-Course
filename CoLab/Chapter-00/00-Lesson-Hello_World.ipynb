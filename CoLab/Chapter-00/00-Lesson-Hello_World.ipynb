{
 "cells": [
  {
   "cell_type": "markdown",
   "id": "d22312dc",
   "metadata": {},
   "source": [
    "<a \n",
    " href=\"https://colab.research.google.com/github/Code-Parth/Learn-Python-Course/blob/master/Colab/00-Lesson-Hello_World.ipynb\"\n",
    " target=\"_parent\">\n",
    "<img \n",
    " src=\"https://colab.research.google.com/assets/colab-badge.svg\"\n",
    "alt=\"Open In Colab\"/>\n",
    "</a>"
   ]
  },
  {
   "cell_type": "markdown",
   "id": "5b8cab00",
   "metadata": {},
   "source": [
    "# Hello, World!\n",
    "- The story behind [Hello, World!](https://en.wikipedia.org/wiki/%22Hello,_World!%22_program)\n",
    "- The [Zen of Python](https://en.wikipedia.org/wiki/Zen_of_Python)\n"
   ]
  },
  {
   "cell_type": "markdown",
   "id": "3269a8c4",
   "metadata": {},
   "source": [
    "### Goal\n",
    "- Get started with **Python**\n",
    "- Get comfortable with **Jupyter Notebook**\n",
    "- Understand **input** and **print**\n",
    "- Learn string methods: **capitlize**, **lower**, **isdecimal**, **replace**"
   ]
  },
  {
   "cell_type": "code",
   "execution_count": 13,
   "id": "e41c9bd9",
   "metadata": {},
   "outputs": [
    {
     "name": "stdout",
     "output_type": "stream",
     "text": [
      "Hello, World!\n"
     ]
    }
   ],
   "source": [
    "print(\"Hello, World!\")"
   ]
  },
  {
   "cell_type": "code",
   "execution_count": 14,
   "id": "511797b5",
   "metadata": {},
   "outputs": [
    {
     "name": "stdout",
     "output_type": "stream",
     "text": [
      "The Zen of Python, by Tim Peters\n",
      "\n",
      "Beautiful is better than ugly.\n",
      "Explicit is better than implicit.\n",
      "Simple is better than complex.\n",
      "Complex is better than complicated.\n",
      "Flat is better than nested.\n",
      "Sparse is better than dense.\n",
      "Readability counts.\n",
      "Special cases aren't special enough to break the rules.\n",
      "Although practicality beats purity.\n",
      "Errors should never pass silently.\n",
      "Unless explicitly silenced.\n",
      "In the face of ambiguity, refuse the temptation to guess.\n",
      "There should be one-- and preferably only one --obvious way to do it.\n",
      "Although that way may not be obvious at first unless you're Dutch.\n",
      "Now is better than never.\n",
      "Although never is often better than *right* now.\n",
      "If the implementation is hard to explain, it's a bad idea.\n",
      "If the implementation is easy to explain, it may be a good idea.\n",
      "Namespaces are one honking great idea -- let's do more of those!\n"
     ]
    }
   ],
   "source": [
    "import this"
   ]
  },
  {
   "cell_type": "code",
   "execution_count": 15,
   "id": "5cd859d6",
   "metadata": {},
   "outputs": [
    {
     "name": "stdout",
     "output_type": "stream",
     "text": [
      "Hey 10 2.2\n"
     ]
    }
   ],
   "source": [
    "print(\"Hey\", 10, 2.2)"
   ]
  },
  {
   "cell_type": "code",
   "execution_count": 16,
   "id": "f891fba9",
   "metadata": {},
   "outputs": [],
   "source": [
    "s = input()"
   ]
  },
  {
   "cell_type": "code",
   "execution_count": 17,
   "id": "dbd91fb3",
   "metadata": {},
   "outputs": [
    {
     "data": {
      "text/plain": [
       "'Hello'"
      ]
     },
     "execution_count": 17,
     "metadata": {},
     "output_type": "execute_result"
    }
   ],
   "source": [
    "s"
   ]
  },
  {
   "cell_type": "code",
   "execution_count": 18,
   "id": "c01954db",
   "metadata": {},
   "outputs": [],
   "source": [
    "s = input(\"What is your name? \")"
   ]
  },
  {
   "cell_type": "code",
   "execution_count": 19,
   "id": "e0f77378",
   "metadata": {},
   "outputs": [
    {
     "name": "stdout",
     "output_type": "stream",
     "text": [
      "Parth\n"
     ]
    }
   ],
   "source": [
    "print(s)"
   ]
  },
  {
   "cell_type": "code",
   "execution_count": 21,
   "id": "db92993e",
   "metadata": {},
   "outputs": [
    {
     "name": "stdout",
     "output_type": "stream",
     "text": [
      "Hello Parth\n",
      "You are 20 years old\n"
     ]
    }
   ],
   "source": [
    "name = input(\"What is your name? \")\n",
    "print(\"Hello\", name.capitalize())\n",
    "age = input(\"How old are you? \")\n",
    "print(\"You are\", age, \"years old\")"
   ]
  },
  {
   "cell_type": "code",
   "execution_count": 22,
   "id": "8f699317",
   "metadata": {},
   "outputs": [
    {
     "name": "stdout",
     "output_type": "stream",
     "text": [
      "Parth\n"
     ]
    }
   ],
   "source": [
    "s = \"Parth\"\n",
    "t = s.capitalize()\n",
    "print(t)"
   ]
  },
  {
   "cell_type": "code",
   "execution_count": 23,
   "id": "57f82d54",
   "metadata": {},
   "outputs": [
    {
     "data": {
      "text/plain": [
       "'PARTH'"
      ]
     },
     "execution_count": 23,
     "metadata": {},
     "output_type": "execute_result"
    }
   ],
   "source": [
    "\"Parth\".upper()"
   ]
  },
  {
   "cell_type": "code",
   "execution_count": 24,
   "id": "72193940",
   "metadata": {},
   "outputs": [
    {
     "data": {
      "text/plain": [
       "'parth'"
      ]
     },
     "execution_count": 24,
     "metadata": {},
     "output_type": "execute_result"
    }
   ],
   "source": [
    "\"Parth\".lower()"
   ]
  },
  {
   "cell_type": "code",
   "execution_count": 25,
   "id": "8eb8557b",
   "metadata": {},
   "outputs": [
    {
     "data": {
      "text/plain": [
       "True"
      ]
     },
     "execution_count": 25,
     "metadata": {},
     "output_type": "execute_result"
    }
   ],
   "source": [
    "\"223\".isdecimal()"
   ]
  },
  {
   "cell_type": "code",
   "execution_count": 26,
   "id": "3b5c799f",
   "metadata": {},
   "outputs": [
    {
     "data": {
      "text/plain": [
       "False"
      ]
     },
     "execution_count": 26,
     "metadata": {},
     "output_type": "execute_result"
    }
   ],
   "source": [
    "\"Parth\".isdecimal()"
   ]
  },
  {
   "cell_type": "code",
   "execution_count": 29,
   "id": "a88399f0",
   "metadata": {},
   "outputs": [
    {
     "data": {
      "text/plain": [
       "'Earth'"
      ]
     },
     "execution_count": 29,
     "metadata": {},
     "output_type": "execute_result"
    }
   ],
   "source": [
    "name = \"Parth\"\n",
    "name.replace('P', 'E')"
   ]
  },
  {
   "cell_type": "code",
   "execution_count": 30,
   "id": "a3472d85",
   "metadata": {},
   "outputs": [
    {
     "name": "stdout",
     "output_type": "stream",
     "text": [
      "Code - Parth\n"
     ]
    }
   ],
   "source": [
    "print(\"Code\", end=' ')\n",
    "print(\"- Parth\")"
   ]
  }
 ],
 "metadata": {
  "kernelspec": {
   "display_name": "Python 3.10.5 64-bit",
   "language": "python",
   "name": "python3"
  },
  "language_info": {
   "codemirror_mode": {
    "name": "ipython",
    "version": 3
   },
   "file_extension": ".py",
   "mimetype": "text/x-python",
   "name": "python",
   "nbconvert_exporter": "python",
   "pygments_lexer": "ipython3",
   "version": "3.10.5"
  },
  "vscode": {
   "interpreter": {
    "hash": "26de051ba29f2982a8de78e945f0abaf191376122a1563185a90213a26c5da77"
   }
  }
 },
 "nbformat": 4,
 "nbformat_minor": 5
}
