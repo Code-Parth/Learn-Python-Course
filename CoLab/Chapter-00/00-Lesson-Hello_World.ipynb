{
 "cells": [
  {
   "cell_type": "markdown",
   "id": "d22312dc",
   "metadata": {},
   "source": [
    "<a \n",
    " href=\"https://colab.research.google.com/github/Code-Parth/Learn-Python-Course/blob/master/CoLab/Chapter-00/00-Lesson-Hello_World.ipynb\"\n",
    " target=\"_parent\">\n",
    "<img \n",
    " src=\"https://colab.research.google.com/assets/colab-badge.svg\"\n",
    "alt=\"Open In Colab\"/>\n",
    "</a>"
   ]
  },
  {
   "cell_type": "markdown",
   "id": "5b8cab00",
   "metadata": {},
   "source": [
    "# Hello, World!\n",
    "- The story behind [Hello, World!](https://en.wikipedia.org/wiki/%22Hello,_World!%22_program)\n",
    "- The [Zen of Python](https://en.wikipedia.org/wiki/Zen_of_Python)\n"
   ]
  },
  {
   "cell_type": "markdown",
   "id": "3269a8c4",
   "metadata": {},
   "source": [
    "### Goal\n",
    "- Get started with **Python**\n",
    "- Get comfortable with **Jupyter Notebook**\n",
    "- Understand **input** and **print**\n",
    "- Learn string methods: **capitlize**, **lower**, **isdecimal**, **replace**"
   ]
  },
  {
   "cell_type": "code",
   "execution_count": null,
   "id": "e41c9bd9",
   "metadata": {},
   "outputs": [],
   "source": [
    "print(\"Hello, World!\")"
   ]
  },
  {
   "cell_type": "code",
   "execution_count": null,
   "id": "511797b5",
   "metadata": {},
   "outputs": [],
   "source": [
    "import this"
   ]
  },
  {
   "cell_type": "code",
   "execution_count": null,
   "id": "5cd859d6",
   "metadata": {},
   "outputs": [],
   "source": [
    "print(\"Hey\", 10, 2.2)"
   ]
  },
  {
   "cell_type": "code",
   "execution_count": null,
   "id": "f891fba9",
   "metadata": {},
   "outputs": [],
   "source": [
    "s = input()"
   ]
  },
  {
   "cell_type": "code",
   "execution_count": null,
   "id": "dbd91fb3",
   "metadata": {},
   "outputs": [],
   "source": [
    "s"
   ]
  },
  {
   "cell_type": "code",
   "execution_count": null,
   "id": "c01954db",
   "metadata": {},
   "outputs": [],
   "source": [
    "s = input(\"What is your name? \")"
   ]
  },
  {
   "cell_type": "code",
   "execution_count": null,
   "id": "e0f77378",
   "metadata": {},
   "outputs": [],
   "source": [
    "print(s)"
   ]
  },
  {
   "cell_type": "code",
   "execution_count": null,
   "id": "db92993e",
   "metadata": {},
   "outputs": [],
   "source": [
    "name = input(\"What is your name? \")\n",
    "print(\"Hello\", name.capitalize())\n",
    "age = input(\"How old are you? \")\n",
    "print(\"You are\", age, \"years old\")"
   ]
  },
  {
   "cell_type": "code",
   "execution_count": null,
   "id": "8f699317",
   "metadata": {},
   "outputs": [],
   "source": [
    "s = \"Parth\"\n",
    "t = s.capitalize()\n",
    "print(t)"
   ]
  },
  {
   "cell_type": "code",
   "execution_count": null,
   "id": "57f82d54",
   "metadata": {},
   "outputs": [],
   "source": [
    "\"Parth\".upper()"
   ]
  },
  {
   "cell_type": "code",
   "execution_count": null,
   "id": "72193940",
   "metadata": {},
   "outputs": [],
   "source": [
    "\"Parth\".lower()"
   ]
  },
  {
   "cell_type": "code",
   "execution_count": null,
   "id": "8eb8557b",
   "metadata": {},
   "outputs": [],
   "source": [
    "\"223\".isdecimal()"
   ]
  },
  {
   "cell_type": "code",
   "execution_count": null,
   "id": "3b5c799f",
   "metadata": {},
   "outputs": [],
   "source": [
    "\"Parth\".isdecimal()"
   ]
  },
  {
   "cell_type": "code",
   "execution_count": null,
   "id": "a88399f0",
   "metadata": {},
   "outputs": [],
   "source": [
    "name = \"Parth\"\n",
    "name.replace('P', 'E')"
   ]
  },
  {
   "cell_type": "code",
   "execution_count": null,
   "id": "a3472d85",
   "metadata": {},
   "outputs": [],
   "source": [
    "print(\"Code\", end=' ')\n",
    "print(\"- Parth\")"
   ]
  }
 ],
 "metadata": {
  "kernelspec": {
   "display_name": "Python 3.10.5 64-bit",
   "language": "python",
   "name": "python3"
  },
  "language_info": {
   "codemirror_mode": {
    "name": "ipython",
    "version": 3
   },
   "file_extension": ".py",
   "mimetype": "text/x-python",
   "name": "python",
   "nbconvert_exporter": "python",
   "pygments_lexer": "ipython3",
   "version": "3.10.5"
  },
  "vscode": {
   "interpreter": {
    "hash": "26de051ba29f2982a8de78e945f0abaf191376122a1563185a90213a26c5da77"
   }
  }
 },
 "nbformat": 4,
 "nbformat_minor": 5
}
