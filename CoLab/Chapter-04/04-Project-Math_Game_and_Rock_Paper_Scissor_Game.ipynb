{
 "cells": [
  {
   "cell_type": "markdown",
   "id": "b468a2f6",
   "metadata": {},
   "source": [
    "<a \n",
    " href=\"https://colab.research.google.com/github/Learn-Python-Course/blob/master/CoLab/Chapter-04/04-Project-Math_Game_and_Rock_Paper_Scissor_Game.ipynb\"\n",
    " target=\"_parent\">\n",
    "<img \n",
    " src=\"https://colab.research.google.com/assets/colab-badge.svg\"\n",
    "alt=\"Open In Colab\"/>\n",
    "</a>"
   ]
  },
  {
   "cell_type": "markdown",
   "id": "1d75bdc4",
   "metadata": {},
   "source": [
    "# Project - Math Game and Rock-Paper-Scissor Game\n",
    "### Goal\n",
    "- Create a Math Game\n",
    "- Create a [Rock-Paper-Scissors Game](https://en.wikipedia.org/wiki/Rock_paper_scissors)"
   ]
  },
  {
   "cell_type": "markdown",
   "id": "4ff2dda3",
   "metadata": {},
   "source": [
    "### Math Game\n",
    "- First, import random\n",
    "- Get a random inteteger from the range 1 to 10 (both inclusive)\n",
    "- Get another random inteteger from the range 1 to 10 (both inclusive)\n",
    "- Prompt the user for what the two integers multiplied is\n",
    "- Print if correct or not. If not corrrect, print the correct answer."
   ]
  },
  {
   "cell_type": "code",
   "execution_count": null,
   "id": "392d1ad8",
   "metadata": {},
   "outputs": [],
   "source": [
    "import random"
   ]
  },
  {
   "cell_type": "markdown",
   "id": "5b146391",
   "metadata": {},
   "source": [
    "### Rock, Paper, Scissors Game\n",
    "\n",
    "![Rock Paper Scissor](img/RockPaperScissors.png \"Rock-Paper-Scissor\")"
   ]
  },
  {
   "cell_type": "code",
   "execution_count": null,
   "id": "07cb171b",
   "metadata": {},
   "outputs": [],
   "source": [
    "print(\"Enter choice: 1: Rock, 2: Paper, 3: Scissor\")\n",
    "choice = input(\"Choice (1/2/3): \")\n",
    "choice = int(choice)\n",
    "\n",
    "computer_choice = random.randint(1, 3)\n",
    "print(f\"Computer: {computer_choice}\")\n",
    "\n",
    "if choice == computer_choice:\n",
    "    print(\"Draw\")\n",
    "elif choice == 1: # Rock\n",
    "    if computer_choice == 2: # Paper\n",
    "        print(\"Computer wins\")\n",
    "    else:\n",
    "        print(\"You win\")\n",
    "elif choice == 2: # Paper\n",
    "    if computer_choice == 1: # Rock\n",
    "        print(\"You win\")\n",
    "    else:\n",
    "        print(\"Computer wins\")\n",
    "elif choice == 3: # Scissor\n",
    "    if computer_choice == 1: # Rock\n",
    "        print(\"Computer wins\")\n",
    "    else:\n",
    "        print(\"You win\")"
   ]
  }
 ],
 "metadata": {
  "kernelspec": {
   "display_name": "Python 3.10.5 64-bit",
   "language": "python",
   "name": "python3"
  },
  "language_info": {
   "name": "python",
   "version": "3.10.5"
  },
  "vscode": {
   "interpreter": {
    "hash": "26de051ba29f2982a8de78e945f0abaf191376122a1563185a90213a26c5da77"
   }
  }
 },
 "nbformat": 4,
 "nbformat_minor": 5
}
